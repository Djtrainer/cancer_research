{
 "cells": [
  {
   "cell_type": "markdown",
   "metadata": {},
   "source": [
    "# Exploratory Data Analysis (EDA) of Gene Expression Data"
   ]
  },
  {
   "cell_type": "markdown",
   "metadata": {},
   "source": [
    "### Project Introduction\n",
    "The objective of this notebook is to perform a comprehensive exploratory data analysis on the TCGA-BRCA RNA-sequencing dataset. The focus here is on understanding the fundamental properties of the data itself. This process helps build intuition about the structure of gene expression data."
   ]
  },
  {
   "cell_type": "markdown",
   "metadata": {},
   "source": [
    "--- \n",
    "### References\n",
    "\n",
    "**Data Sources and Platforms**\n",
    "* [The Cancer Genome Atlas (TCGA)](https://www.cancer.gov/tcga): The primary data used in this analysis originates from the TCGA program, a landmark cancer genomics program that molecularly characterized over 20,000 primary cancer and matched normal samples spanning 33 cancer types\n",
    "\n",
    "* [UCSC Xena Browser](https://xenabrowser.net/datapages/): The specific clinical and gene expression data files were accessed via the UCSC Xena platform, which provides an intuitive interface for exploring and downloading processed TCGA and other large genomic datasets.\n",
    "\n",
    "**Survival Libraries**\n",
    "* [Scikit Survival Docs](https://scikit-survival.readthedocs.io/en/stable/index.html)\n",
    "* [Lifeline Docs](https://lifelines.readthedocs.io/en/latest/index.html)"
   ]
  },
  {
   "cell_type": "markdown",
   "metadata": {},
   "source": [
    "---\n",
    "### Table of Contents"
   ]
  },
  {
   "cell_type": "markdown",
   "metadata": {},
   "source": [
    "1. [Imports](#imports)\n",
    "2. [Constants & Data](#constants)\n",
    "3. ...\n",
    "8. [Summary](#summary)"
   ]
  },
  {
   "cell_type": "markdown",
   "metadata": {},
   "source": [
    "---\n",
    "### 1. Imports <a class=\"anchor\" id=\"imports\"></a>"
   ]
  },
  {
   "cell_type": "code",
   "execution_count": 2,
   "metadata": {},
   "outputs": [],
   "source": [
    "import os\n",
    "from pathlib import Path\n",
    "from typing import Tuple \n",
    "\n",
    "from lifelines import KaplanMeierFitter\n",
    "from lifelines.statistics import logrank_test\n",
    "from lifelines import CoxPHFitter\n",
    "\n",
    "import matplotlib.pyplot as plt\n",
    "import numpy as np\n",
    "import pandas as pd\n",
    "\n",
    "from sklearn import set_config\n",
    "from sklearn.linear_model import LinearRegression\n",
    "from sklearn.preprocessing import OneHotEncoder\n",
    "\n",
    "from sksurv.linear_model import CoxPHSurvivalAnalysis\n",
    "from sksurv.nonparametric import kaplan_meier_estimator\n",
    "\n",
    "from statsmodels.stats.outliers_influence import variance_inflation_factor"
   ]
  },
  {
   "cell_type": "markdown",
   "metadata": {},
   "source": [
    "---\n",
    "### 2. Constants & Data Import <a class=\"anchor\" id=\"constants\"></a>"
   ]
  },
  {
   "cell_type": "markdown",
   "metadata": {},
   "source": [
    "\n",
    "The necessary data files can be accessed and downloaded via the GDC TCGA Breast Cancer (BRCA) portal on the [UCSC Xena Functional Genomics Browser](https://xenabrowser.net/datapages/?cohort=GDC%20TCGA%20Breast%20Cancer%20(BRCA)&removeHub=https%3A%2F%2Fxena.treehouse.gi.ucsc.edu%3A443). The following specific datasets are required:\n",
    "\n",
    "* **Gene Expression (RNA-Seq)**: \n",
    "\n",
    "    *gene expression RNAseq --> STAR - FPKM-UQ*\n",
    "\n",
    "    The STAR - FPKM-UQ file provides gene expression levels for 58,049 genes. This dataset is derived from RNA sequencing (RNA-Seq) data that has been aligned to the human genome using the STAR (Splicer-Aware Transcriptome Alignment for RNA) aligner.\n",
    "\n",
    "The notebook expects both tsv files to be placed in the `data/` folder."
   ]
  },
  {
   "cell_type": "code",
   "execution_count": 3,
   "metadata": {},
   "outputs": [],
   "source": [
    "ROOT = Path(os.getcwd()).parents[0]\n",
    "\n",
    "DATA_PATH = os.path.join(ROOT, \"data\", \"TCGA-BRCA.star_fpkm-uq.tsv\")"
   ]
  },
  {
   "cell_type": "code",
   "execution_count": 4,
   "metadata": {},
   "outputs": [
    {
     "data": {
      "text/html": [
       "<div>\n",
       "<style scoped>\n",
       "    .dataframe tbody tr th:only-of-type {\n",
       "        vertical-align: middle;\n",
       "    }\n",
       "\n",
       "    .dataframe tbody tr th {\n",
       "        vertical-align: top;\n",
       "    }\n",
       "\n",
       "    .dataframe thead th {\n",
       "        text-align: right;\n",
       "    }\n",
       "</style>\n",
       "<table border=\"1\" class=\"dataframe\">\n",
       "  <thead>\n",
       "    <tr style=\"text-align: right;\">\n",
       "      <th></th>\n",
       "      <th>TCGA-D8-A146-01A</th>\n",
       "      <th>TCGA-AQ-A0Y5-01A</th>\n",
       "      <th>TCGA-C8-A274-01A</th>\n",
       "      <th>TCGA-BH-A0BD-01A</th>\n",
       "      <th>TCGA-B6-A1KC-01B</th>\n",
       "      <th>TCGA-AC-A62V-01A</th>\n",
       "      <th>TCGA-AO-A0J5-01A</th>\n",
       "      <th>TCGA-BH-A0B1-01A</th>\n",
       "      <th>TCGA-A2-A0YM-01A</th>\n",
       "      <th>TCGA-AO-A03N-01B</th>\n",
       "      <th>...</th>\n",
       "      <th>TCGA-E2-A1IG-01A</th>\n",
       "      <th>TCGA-E9-A1NA-01A</th>\n",
       "      <th>TCGA-D8-A1JP-01A</th>\n",
       "      <th>TCGA-AR-A252-01A</th>\n",
       "      <th>TCGA-D8-A1XL-01A</th>\n",
       "      <th>TCGA-BH-A0EI-01A</th>\n",
       "      <th>TCGA-E2-A1IO-01A</th>\n",
       "      <th>TCGA-E2-A15R-01A</th>\n",
       "      <th>TCGA-B6-A0IP-01A</th>\n",
       "      <th>TCGA-A1-A0SN-01A</th>\n",
       "    </tr>\n",
       "    <tr>\n",
       "      <th>Ensembl_ID</th>\n",
       "      <th></th>\n",
       "      <th></th>\n",
       "      <th></th>\n",
       "      <th></th>\n",
       "      <th></th>\n",
       "      <th></th>\n",
       "      <th></th>\n",
       "      <th></th>\n",
       "      <th></th>\n",
       "      <th></th>\n",
       "      <th></th>\n",
       "      <th></th>\n",
       "      <th></th>\n",
       "      <th></th>\n",
       "      <th></th>\n",
       "      <th></th>\n",
       "      <th></th>\n",
       "      <th></th>\n",
       "      <th></th>\n",
       "      <th></th>\n",
       "      <th></th>\n",
       "    </tr>\n",
       "  </thead>\n",
       "  <tbody>\n",
       "    <tr>\n",
       "      <th>ENSG00000000003.15</th>\n",
       "      <td>3.767708</td>\n",
       "      <td>2.132741</td>\n",
       "      <td>4.768010</td>\n",
       "      <td>3.049735</td>\n",
       "      <td>3.009311</td>\n",
       "      <td>2.262163</td>\n",
       "      <td>2.929999</td>\n",
       "      <td>4.243105</td>\n",
       "      <td>4.231540</td>\n",
       "      <td>3.126461</td>\n",
       "      <td>...</td>\n",
       "      <td>3.083077</td>\n",
       "      <td>2.463256</td>\n",
       "      <td>3.263365</td>\n",
       "      <td>3.203264</td>\n",
       "      <td>3.653874</td>\n",
       "      <td>4.470745</td>\n",
       "      <td>4.214863</td>\n",
       "      <td>1.175109</td>\n",
       "      <td>5.008083</td>\n",
       "      <td>1.993783</td>\n",
       "    </tr>\n",
       "    <tr>\n",
       "      <th>ENSG00000000005.6</th>\n",
       "      <td>1.759454</td>\n",
       "      <td>0.146003</td>\n",
       "      <td>0.000000</td>\n",
       "      <td>1.071763</td>\n",
       "      <td>0.185993</td>\n",
       "      <td>0.308594</td>\n",
       "      <td>0.467071</td>\n",
       "      <td>0.121281</td>\n",
       "      <td>0.124196</td>\n",
       "      <td>0.000000</td>\n",
       "      <td>...</td>\n",
       "      <td>0.038015</td>\n",
       "      <td>0.045024</td>\n",
       "      <td>0.023184</td>\n",
       "      <td>1.922426</td>\n",
       "      <td>0.000000</td>\n",
       "      <td>0.104739</td>\n",
       "      <td>0.224658</td>\n",
       "      <td>0.127501</td>\n",
       "      <td>0.165172</td>\n",
       "      <td>0.015783</td>\n",
       "    </tr>\n",
       "    <tr>\n",
       "      <th>ENSG00000000419.13</th>\n",
       "      <td>4.920541</td>\n",
       "      <td>5.284151</td>\n",
       "      <td>5.051694</td>\n",
       "      <td>4.618797</td>\n",
       "      <td>4.852973</td>\n",
       "      <td>5.364065</td>\n",
       "      <td>3.958935</td>\n",
       "      <td>5.171995</td>\n",
       "      <td>4.771500</td>\n",
       "      <td>5.550193</td>\n",
       "      <td>...</td>\n",
       "      <td>4.556411</td>\n",
       "      <td>4.596321</td>\n",
       "      <td>5.213518</td>\n",
       "      <td>4.374831</td>\n",
       "      <td>5.696970</td>\n",
       "      <td>5.234413</td>\n",
       "      <td>4.876325</td>\n",
       "      <td>4.975405</td>\n",
       "      <td>4.569892</td>\n",
       "      <td>6.213147</td>\n",
       "    </tr>\n",
       "    <tr>\n",
       "      <th>ENSG00000000457.14</th>\n",
       "      <td>2.612588</td>\n",
       "      <td>2.428544</td>\n",
       "      <td>3.356299</td>\n",
       "      <td>2.680774</td>\n",
       "      <td>2.381671</td>\n",
       "      <td>1.128095</td>\n",
       "      <td>2.787265</td>\n",
       "      <td>2.398214</td>\n",
       "      <td>1.637378</td>\n",
       "      <td>1.876527</td>\n",
       "      <td>...</td>\n",
       "      <td>2.257493</td>\n",
       "      <td>2.141498</td>\n",
       "      <td>3.250295</td>\n",
       "      <td>2.203232</td>\n",
       "      <td>2.196827</td>\n",
       "      <td>2.030407</td>\n",
       "      <td>2.303109</td>\n",
       "      <td>2.895225</td>\n",
       "      <td>2.681697</td>\n",
       "      <td>2.431356</td>\n",
       "    </tr>\n",
       "    <tr>\n",
       "      <th>ENSG00000000460.17</th>\n",
       "      <td>1.363395</td>\n",
       "      <td>1.158337</td>\n",
       "      <td>2.458172</td>\n",
       "      <td>2.494236</td>\n",
       "      <td>1.565841</td>\n",
       "      <td>1.249809</td>\n",
       "      <td>1.221939</td>\n",
       "      <td>1.857344</td>\n",
       "      <td>2.197771</td>\n",
       "      <td>1.396050</td>\n",
       "      <td>...</td>\n",
       "      <td>1.223670</td>\n",
       "      <td>1.222805</td>\n",
       "      <td>2.184534</td>\n",
       "      <td>1.291250</td>\n",
       "      <td>1.736778</td>\n",
       "      <td>1.531219</td>\n",
       "      <td>1.123070</td>\n",
       "      <td>1.955015</td>\n",
       "      <td>1.791314</td>\n",
       "      <td>1.716025</td>\n",
       "    </tr>\n",
       "  </tbody>\n",
       "</table>\n",
       "<p>5 rows × 1226 columns</p>\n",
       "</div>"
      ],
      "text/plain": [
       "                    TCGA-D8-A146-01A  TCGA-AQ-A0Y5-01A  TCGA-C8-A274-01A  \\\n",
       "Ensembl_ID                                                                 \n",
       "ENSG00000000003.15          3.767708          2.132741          4.768010   \n",
       "ENSG00000000005.6           1.759454          0.146003          0.000000   \n",
       "ENSG00000000419.13          4.920541          5.284151          5.051694   \n",
       "ENSG00000000457.14          2.612588          2.428544          3.356299   \n",
       "ENSG00000000460.17          1.363395          1.158337          2.458172   \n",
       "\n",
       "                    TCGA-BH-A0BD-01A  TCGA-B6-A1KC-01B  TCGA-AC-A62V-01A  \\\n",
       "Ensembl_ID                                                                 \n",
       "ENSG00000000003.15          3.049735          3.009311          2.262163   \n",
       "ENSG00000000005.6           1.071763          0.185993          0.308594   \n",
       "ENSG00000000419.13          4.618797          4.852973          5.364065   \n",
       "ENSG00000000457.14          2.680774          2.381671          1.128095   \n",
       "ENSG00000000460.17          2.494236          1.565841          1.249809   \n",
       "\n",
       "                    TCGA-AO-A0J5-01A  TCGA-BH-A0B1-01A  TCGA-A2-A0YM-01A  \\\n",
       "Ensembl_ID                                                                 \n",
       "ENSG00000000003.15          2.929999          4.243105          4.231540   \n",
       "ENSG00000000005.6           0.467071          0.121281          0.124196   \n",
       "ENSG00000000419.13          3.958935          5.171995          4.771500   \n",
       "ENSG00000000457.14          2.787265          2.398214          1.637378   \n",
       "ENSG00000000460.17          1.221939          1.857344          2.197771   \n",
       "\n",
       "                    TCGA-AO-A03N-01B  ...  TCGA-E2-A1IG-01A  TCGA-E9-A1NA-01A  \\\n",
       "Ensembl_ID                            ...                                       \n",
       "ENSG00000000003.15          3.126461  ...          3.083077          2.463256   \n",
       "ENSG00000000005.6           0.000000  ...          0.038015          0.045024   \n",
       "ENSG00000000419.13          5.550193  ...          4.556411          4.596321   \n",
       "ENSG00000000457.14          1.876527  ...          2.257493          2.141498   \n",
       "ENSG00000000460.17          1.396050  ...          1.223670          1.222805   \n",
       "\n",
       "                    TCGA-D8-A1JP-01A  TCGA-AR-A252-01A  TCGA-D8-A1XL-01A  \\\n",
       "Ensembl_ID                                                                 \n",
       "ENSG00000000003.15          3.263365          3.203264          3.653874   \n",
       "ENSG00000000005.6           0.023184          1.922426          0.000000   \n",
       "ENSG00000000419.13          5.213518          4.374831          5.696970   \n",
       "ENSG00000000457.14          3.250295          2.203232          2.196827   \n",
       "ENSG00000000460.17          2.184534          1.291250          1.736778   \n",
       "\n",
       "                    TCGA-BH-A0EI-01A  TCGA-E2-A1IO-01A  TCGA-E2-A15R-01A  \\\n",
       "Ensembl_ID                                                                 \n",
       "ENSG00000000003.15          4.470745          4.214863          1.175109   \n",
       "ENSG00000000005.6           0.104739          0.224658          0.127501   \n",
       "ENSG00000000419.13          5.234413          4.876325          4.975405   \n",
       "ENSG00000000457.14          2.030407          2.303109          2.895225   \n",
       "ENSG00000000460.17          1.531219          1.123070          1.955015   \n",
       "\n",
       "                    TCGA-B6-A0IP-01A  TCGA-A1-A0SN-01A  \n",
       "Ensembl_ID                                              \n",
       "ENSG00000000003.15          5.008083          1.993783  \n",
       "ENSG00000000005.6           0.165172          0.015783  \n",
       "ENSG00000000419.13          4.569892          6.213147  \n",
       "ENSG00000000457.14          2.681697          2.431356  \n",
       "ENSG00000000460.17          1.791314          1.716025  \n",
       "\n",
       "[5 rows x 1226 columns]"
      ]
     },
     "metadata": {},
     "output_type": "display_data"
    },
    {
     "name": "stdout",
     "output_type": "stream",
     "text": [
      "Number of genes: 58049\n",
      "Number of samples: 1226\n"
     ]
    }
   ],
   "source": [
    "df = pd.read_csv(DATA_PATH, sep=\"\\t\", index_col=0).drop_duplicates()\n",
    "\n",
    "display(df.head())\n",
    "print(f\"Number of genes: {df.shape[0]}\")\n",
    "print(f\"Number of samples: {df.shape[1]}\")"
   ]
  },
  {
   "cell_type": "markdown",
   "metadata": {},
   "source": [
    "---\n",
    "### 3. What does the distribution of gene expression look like? <a class=\"anchor\" id=\"distributions\"></a>"
   ]
  },
  {
   "cell_type": "markdown",
   "metadata": {},
   "source": [
    "..."
   ]
  },
  {
   "cell_type": "code",
   "execution_count": 50,
   "metadata": {},
   "outputs": [
    {
     "data": {
      "text/plain": [
       "Ensembl_ID\n",
       "ENSG00000000003.15    3.518205\n",
       "ENSG00000000005.6     0.654253\n",
       "ENSG00000000419.13    5.086979\n",
       "ENSG00000000457.14    2.319870\n",
       "ENSG00000000460.17    1.550888\n",
       "                        ...   \n",
       "ENSG00000288667.1     0.104356\n",
       "ENSG00000288669.1     0.001070\n",
       "ENSG00000288670.1     2.314941\n",
       "ENSG00000288674.1     0.023102\n",
       "ENSG00000288675.1     0.395915\n",
       "Length: 58049, dtype: float64"
      ]
     },
     "execution_count": 50,
     "metadata": {},
     "output_type": "execute_result"
    }
   ],
   "source": [
    "df.mean(axis=1)"
   ]
  },
  {
   "cell_type": "code",
   "execution_count": 51,
   "metadata": {},
   "outputs": [
    {
     "data": {
      "image/png": "[encoded data removed]",
      "text/plain": [
       "<Figure size 1500x500 with 1 Axes>"
      ]
     },
     "metadata": {},
     "output_type": "display_data"
    }
   ],
   "source": [
    "_, ax = plt.subplots(figsize=(15, 5))\n",
    "df.mean(axis=1).hist(\n",
    "    bins=100,\n",
    "    ax=ax,\n",
    "    edgecolor='white',\n",
    "    alpha=0.7,\n",
    "    grid=False\n",
    ")\n",
    "plt.title(\"Distribution of gene expression levels\")\n",
    "\n",
    "plt.xlabel(\"Mean gene expression level\")\n",
    "plt.ylabel(\"Number of genes\")\n",
    "\n",
    "plt.xlim(0, df.mean(axis=1).max() * 1.1);"
   ]
  },
  {
   "cell_type": "markdown",
   "metadata": {},
   "source": [
    "Which genes represent the \"housekeeping\" genes (those with highest expression)?"
   ]
  },
  {
   "cell_type": "code",
   "execution_count": 54,
   "metadata": {},
   "outputs": [
    {
     "data": {
      "text/plain": [
       "Ensembl_ID\n",
       "ENSG00000198938.2    12.608721\n",
       "ENSG00000198712.1    12.485528\n",
       "ENSG00000198804.2    12.447667\n",
       "ENSG00000198886.2    12.325999\n",
       "ENSG00000210082.2    12.007652\n",
       "dtype: float64"
      ]
     },
     "execution_count": 54,
     "metadata": {},
     "output_type": "execute_result"
    }
   ],
   "source": [
    "df.mean(axis=1).sort_values(ascending=False).head(5)"
   ]
  },
  {
   "cell_type": "code",
   "execution_count": null,
   "metadata": {},
   "outputs": [],
   "source": []
  },
  {
   "cell_type": "markdown",
   "metadata": {},
   "source": [
    "\n",
    "**Observation**: \n",
    "* The genetic expression of this cohort demonstrates a long tail distribution with a low percentage of genes displaying relatively high expression. \n",
    "* There is a very large peak near zero, representing the tens of thousands of genes that have very low or no expression in breast tissue."
   ]
  },
  {
   "cell_type": "code",
   "execution_count": null,
   "metadata": {},
   "outputs": [],
   "source": []
  },
  {
   "cell_type": "code",
   "execution_count": null,
   "metadata": {},
   "outputs": [],
   "source": []
  },
  {
   "cell_type": "code",
   "execution_count": null,
   "metadata": {},
   "outputs": [],
   "source": []
  },
  {
   "cell_type": "markdown",
   "metadata": {},
   "source": [
    "**Observations**: \n",
    "..."
   ]
  },
  {
   "cell_type": "markdown",
   "metadata": {},
   "source": [
    "---\n",
    "### 8. Summary"
   ]
  },
  {
   "cell_type": "markdown",
   "metadata": {},
   "source": [
    "..."
   ]
  },
  {
   "cell_type": "markdown",
   "metadata": {},
   "source": []
  }
 ],
 "metadata": {
  "kernelspec": {
   "display_name": "cancer_env",
   "language": "python",
   "name": "python3"
  },
  "language_info": {
   "codemirror_mode": {
    "name": "ipython",
    "version": 3
   },
   "file_extension": ".py",
   "mimetype": "text/x-python",
   "name": "python",
   "nbconvert_exporter": "python",
   "pygments_lexer": "ipython3",
   "version": "3.11.13"
  }
 },
 "nbformat": 4,
 "nbformat_minor": 2
}
