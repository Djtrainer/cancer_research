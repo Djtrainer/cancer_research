{
 "cells": [
  {
   "cell_type": "markdown",
   "metadata": {},
   "source": [
    "#  Predicting Drug Induced Gene Expression"
   ]
  },
  {
   "cell_type": "markdown",
   "metadata": {},
   "source": [
    "### Project Introduction\n",
    "\n",
    "This project tackles a core challenge in drug discovery: predicting how a drug will affect a cell's biology before it's ever tested in the lab. \n",
    "```\n",
    "Gene Expression Change = f(Drug, Cell Type)\n",
    "```\n",
    "We use the LINCS L1000 (GSE92742) dataset, because it is the gold-standard, largest, and most comprehensive public resource designed for exactly this project's goal: predicting how a cell's gene expression changes in response to a drug. The dataset contains each variable in the equation above:\n",
    "\n",
    "  * **Gene Expression Change**: It contains the gene expression changes (the Z-scores in the .gctx file).\n",
    "\n",
    "  * **Drug**: It tells you which drug was used for each experiment (in the sig_info and pert_info files).\n",
    "\n",
    "  * **Cell Type**: It tells you which cell type was used (also in the sig_info file)\n",
    "\n",
    "We build a deep generative model to address this challenge by learning how different drugs change gene expression.  Mapping the post-treatment gene expression to a compact latent space using a Variational Autoencoder, the model can ifer a gene expression profile from a novel drug that it has never seen before.\n",
    "\n",
    "The steps carried out in this notebook include:\n",
    "\n",
    "  1. **Exploratory Data Analysis (EDA)**: ...\n",
    "  \n",
    "  "
   ]
  },
  {
   "cell_type": "markdown",
   "metadata": {},
   "source": [
    "--- \n",
    "### References\n",
    "\n",
    "**Data Sources and Platforms**\n",
    "\n",
    "* [LINCS L1000 (GSE92742)](https://www.ncbi.nlm.nih.gov/geo/query/acc.cgi?acc=GSE92742): The data used here is the LINCS L1000 - the gold-standard, largest and most comprehensive public resource designed for predicting how a cell's gene expression changes in response to a drug.\n",
    "\n",
    "**Libraries**\n",
    "* [Pytorch Geometric](https://pytorch-geometric.readthedocs.io/en/latest/)"
   ]
  },
  {
   "cell_type": "markdown",
   "metadata": {},
   "source": [
    "---\n",
    "### Table of Contents"
   ]
  },
  {
   "cell_type": "markdown",
   "metadata": {},
   "source": [
    "1. [Imports](#imports)\n",
    "2. [Utility Functions](#utility-functions)\n",
    "3. [Constants & Data Import](#constants-&-data-import)\n",
    "4. [Data Exploration](#data-exploration)\n",
    "5. [Data Pre-processing](#data-pre-processing)\n",
    "6. [Build the Model](#build-the-model) \n",
    "7. [Clustering & Visualization](#clustering-&-visualization)\n",
    "8. [Summary](#summary)"
   ]
  },
  {
   "cell_type": "markdown",
   "metadata": {},
   "source": [
    "---\n",
    "### 1. Imports <a class=\"anchor\" id=\"imports\"></a>"
   ]
  },
  {
   "cell_type": "code",
   "execution_count": 1,
   "metadata": {},
   "outputs": [
    {
     "name": "stderr",
     "output_type": "stream",
     "text": [
      "/Users/dantrainer/miniconda3/envs/cancer_env/lib/python3.11/site-packages/dask/dataframe/__init__.py:31: FutureWarning: The legacy Dask DataFrame implementation is deprecated and will be removed in a future version. Set the configuration option `dataframe.query-planning` to `True` or None to enable the new Dask Dataframe implementation and silence this warning.\n",
      "  warnings.warn(\n",
      "/Users/dantrainer/miniconda3/envs/cancer_env/lib/python3.11/site-packages/anndata/utils.py:434: FutureWarning: Importing read_text from `anndata` is deprecated. Import anndata.io.read_text instead.\n",
      "  warnings.warn(msg, FutureWarning)\n",
      "/Users/dantrainer/miniconda3/envs/cancer_env/lib/python3.11/site-packages/torch_geometric/typing.py:68: UserWarning: An issue occurred while importing 'pyg-lib'. Disabling its usage. Stacktrace: dlopen(/Users/dantrainer/miniconda3/envs/cancer_env/lib/python3.11/site-packages/libpyg.so, 0x0006): tried: '/Users/dantrainer/miniconda3/envs/cancer_env/lib/python3.11/site-packages/libpyg.so' (mach-o file, but is an incompatible architecture (have 'x86_64', need 'arm64e' or 'arm64')), '/System/Volumes/Preboot/Cryptexes/OS/Users/dantrainer/miniconda3/envs/cancer_env/lib/python3.11/site-packages/libpyg.so' (no such file), '/Users/dantrainer/miniconda3/envs/cancer_env/lib/python3.11/site-packages/libpyg.so' (mach-o file, but is an incompatible architecture (have 'x86_64', need 'arm64e' or 'arm64'))\n",
      "  warnings.warn(f\"An issue occurred while importing 'pyg-lib'. \"\n",
      "/Users/dantrainer/miniconda3/envs/cancer_env/lib/python3.11/site-packages/torch_geometric/typing.py:124: UserWarning: An issue occurred while importing 'torch-sparse'. Disabling its usage. Stacktrace: dlopen(/Users/dantrainer/miniconda3/envs/cancer_env/lib/python3.11/site-packages/torch_sparse/_version_cpu.so, 0x0006): symbol not found in flat namespace '__ZN3c1017RegisterOperatorsD1Ev'\n",
      "  warnings.warn(f\"An issue occurred while importing 'torch-sparse'. \"\n",
      "/var/folders/wt/5vc39b651nn6m5wm29j25dk80000gn/T/ipykernel_72811/4107006680.py:23: TqdmWarning: IProgress not found. Please update jupyter and ipywidgets. See https://ipywidgets.readthedocs.io/en/stable/user_install.html\n",
      "  from tqdm.autonotebook import tqdm\n"
     ]
    }
   ],
   "source": [
    "import os\n",
    "from pathlib import Path\n",
    "from typing import Tuple\n",
    "\n",
    "import matplotlib.pyplot as plt\n",
    "import seaborn as sns\n",
    "\n",
    "import scanpy as sc\n",
    "import squidpy as sq\n",
    "\n",
    "import pandas as pd\n",
    "import numpy as np\n",
    "\n",
    "from sklearn.metrics import roc_auc_score\n",
    "\n",
    "import torch\n",
    "import torch.nn.functional as F\n",
    "from torch_geometric.data import Data\n",
    "from torch_geometric.nn import GCNConv\n",
    "from torch_geometric.utils import negative_sampling, train_test_split_edges\n",
    "from tqdm import tqdm\n",
    "\n",
    "from tqdm.autonotebook import tqdm\n",
    "from sklearn.preprocessing import StandardScaler"
   ]
  },
  {
   "cell_type": "markdown",
   "metadata": {},
   "source": [
    "---\n",
    "### 2. Utility Functions <a class=\"anchor\" id=\"utility\"></a>"
   ]
  },
  {
   "cell_type": "markdown",
   "metadata": {},
   "source": [
    "#### Model Architecture\n",
    "\n",
    "Define the Variational Autoencoder"
   ]
  },
  {
   "cell_type": "code",
   "execution_count": 2,
   "metadata": {},
   "outputs": [],
   "source": [
    "pass"
   ]
  },
  {
   "cell_type": "markdown",
   "metadata": {},
   "source": [
    "#### Training Functions"
   ]
  },
  {
   "cell_type": "code",
   "execution_count": 3,
   "metadata": {},
   "outputs": [],
   "source": [
    "def train(model, optimizer, data):\n",
    "    \"\"\"Train the model for one epoch.\n",
    "\n",
    "    Returns:\n",
    "        float: The reconstruction loss on the training edges.\n",
    "    \"\"\"\n",
    "    model.train()\n",
    "    optimizer.zero_grad()\n",
    "    z = model.encode(data.x, data.train_pos_edge_index)\n",
    "    # calculate the loss on the training edges\n",
    "    loss, auc_score = model.recon_loss(z, data.train_pos_edge_index)\n",
    "\n",
    "    loss.backward()\n",
    "    optimizer.step()\n",
    "    return float(loss), auc_score\n",
    "\n",
    "\n",
    "@torch.no_grad()\n",
    "def test(model, data):\n",
    "    \"\"\"Evaluate the model on the validation edges.\n",
    "\n",
    "    Args:\n",
    "        pos_edge_index (torch.Tensor): The positive edge indices for validation.\n",
    "    Returns:\n",
    "        float: The reconstruction loss on the validation edges.\n",
    "    \"\"\"\n",
    "    model.eval()\n",
    "    z = model.encode(data.x, data.train_pos_edge_index)\n",
    "\n",
    "    loss, auc_score = model.recon_loss(z, data.val_pos_edge_index)\n",
    "\n",
    "    return float(loss), auc_score"
   ]
  },
  {
   "cell_type": "markdown",
   "metadata": {},
   "source": [
    "---\n",
    "### 3. Constants & Data Import <a class=\"anchor\" id=\"constants\"></a>"
   ]
  },
  {
   "cell_type": "markdown",
   "metadata": {},
   "source": [
    "\n",
    "The necessary data files can be accessed and downloaded via the [Gene Expression Omnibus Portal](https://www.ncbi.nlm.nih.gov/geo/query/acc.cgi?acc=GSE92742). The following specific datasets are required:\n",
    "\n",
    "* **The Gene Expression Data**\n",
    "\n",
    "    *GSE92742_Broad_LINCS_Level5_COMPZ.MODZ_n473647x12328.gctx.gz* \n",
    "    \n",
    "    The main data matrix that contains the results of nearly half a million experiments (how much a gene's expression went up or down in a single experiment compared to a control)\n",
    "\n",
    "* **The Signature Info File**\n",
    "\n",
    "    *GSE92742_Broad_LINCS_sig_info.txt*\n",
    "\n",
    "    Metadata file that explains what each column in the expression matrix means.\n",
    "\n",
    "* **The Perturbation Info File**\n",
    "\n",
    "    *GSE92742_Broad_LINCS_pert_info.txt*\n",
    "\n",
    "    The drug dictionary that provides details about the perturbations used in the experiments.\n",
    "\n",
    "* **The Gene Info File**\n",
    "\n",
    "    *GSE92742_Broad_LINCS_gene_info.txt*\n",
    "\n",
    "    The gene dictionary that provides details abou tthe genes measured.\n",
    "\n",
    "\n",
    "The notebook expects both tsv files to be placed in the `data/LINCS_L1000` folder."
   ]
  },
  {
   "cell_type": "code",
   "execution_count": 4,
   "metadata": {},
   "outputs": [],
   "source": [
    "ROOT = Path(os.getcwd()).parents[0]\n",
    "\n",
    "DATA_PATH = os.path.join(ROOT, \"data\", \"LINCS_L1000\")\n",
    "GCTX_DATA_PATH = os.path.join(DATA_PATH, \"GSE92742_Broad_LINCS_Level5_COMPZ.MODZ_n473647x12328.gctx\")\n",
    "\n",
    "GENE_INFO_PATH = os.path.join(DATA_PATH, \"GSE92742_Broad_LINCS_gene_info.txt\")\n",
    "PERTURBATION_DATA_PATH = os.path.join(DATA_PATH, \"GSE92742_Broad_LINCS_pert_info.txt\")\n",
    "SIGNATURE_DATA_PATH = os.path.join(DATA_PATH, \"GSE92742_Broad_LINCS_sig_info.txt\")"
   ]
  },
  {
   "cell_type": "markdown",
   "metadata": {},
   "source": [
    "---\n",
    "### 4. Data Exploration <a class=\"anchor\" id=\"constants\"></a>"
   ]
  },
  {
   "cell_type": "markdown",
   "metadata": {},
   "source": [
    "Load the data"
   ]
  },
  {
   "cell_type": "code",
   "execution_count": 10,
   "metadata": {},
   "outputs": [
    {
     "name": "stderr",
     "output_type": "stream",
     "text": [
      "/Users/dantrainer/miniconda3/envs/cancer_env/lib/python3.11/site-packages/cmapPy/pandasGEXpress/parse_gctx.py:275: FutureWarning: errors='ignore' is deprecated and will raise in a future version. Use to_numeric without passing `errors` and catch exceptions explicitly instead\n",
      "  meta_df = meta_df.apply(lambda x: pd.to_numeric(x, errors=\"ignore\"))\n"
     ]
    },
    {
     "data": {
      "text/plain": [
       "473647"
      ]
     },
     "execution_count": 10,
     "metadata": {},
     "output_type": "execute_result"
    }
   ],
   "source": [
    "from cmapPy.pandasGEXpress.parse import parse as parse_gctx\n",
    "\n",
    "# gctoo_object = parse_gctx(GCTX_DATA_PATH)\n",
    "# expression_df = gctoo_object.data_df\n",
    "\n",
    "# expression_df\n",
    "\n",
    "col_metadata_df = parse_gctx(GCTX_DATA_PATH, col_meta_only=True)\n",
    "all_sig_ids = col_metadata_df.index.tolist()\n",
    "len(all_sig_ids)  # Total number of signatures"
   ]
  },
  {
   "cell_type": "code",
   "execution_count": 6,
   "metadata": {},
   "outputs": [
    {
     "data": {
      "text/plain": [
       "['CPC005_A375_6H:BRD-A85280935-003-01-7:10',\n",
       " 'CPC005_A375_6H:BRD-A07824748-001-02-6:10',\n",
       " 'CPC004_A375_6H:BRD-K20482099-001-01-1:10',\n",
       " 'CPC005_A375_6H:BRD-K62929068-001-03-3:10',\n",
       " 'CPC005_A375_6H:BRD-K43405658-001-01-8:10',\n",
       " 'CPC004_A375_6H:BRD-K03670461-001-02-0:10',\n",
       " 'CPC004_A375_6H:BRD-K36737713-001-01-6:10',\n",
       " 'CPC005_A375_6H:BRD-K51223576-001-01-3:10',\n",
       " 'CPC004_A375_6H:BRD-A14966924-001-03-0:10',\n",
       " 'CPC004_A375_6H:BRD-K79131256-001-08-8:10']"
      ]
     },
     "execution_count": 6,
     "metadata": {},
     "output_type": "execute_result"
    }
   ],
   "source": [
    "all_sig_ids[:10]  # Display the first 10 signature IDs"
   ]
  },
  {
   "cell_type": "code",
   "execution_count": null,
   "metadata": {},
   "outputs": [
    {
     "name": "stderr",
     "output_type": "stream",
     "text": [
      "/Users/dantrainer/miniconda3/envs/cancer_env/lib/python3.11/site-packages/cmapPy/pandasGEXpress/parse_gctx.py:275: FutureWarning: errors='ignore' is deprecated and will raise in a future version. Use to_numeric without passing `errors` and catch exceptions explicitly instead\n",
      "  meta_df = meta_df.apply(lambda x: pd.to_numeric(x, errors=\"ignore\"))\n",
      "/Users/dantrainer/miniconda3/envs/cancer_env/lib/python3.11/site-packages/cmapPy/pandasGEXpress/parse_gctx.py:275: FutureWarning: errors='ignore' is deprecated and will raise in a future version. Use to_numeric without passing `errors` and catch exceptions explicitly instead\n",
      "  meta_df = meta_df.apply(lambda x: pd.to_numeric(x, errors=\"ignore\"))\n"
     ]
    },
    {
     "data": {
      "text/html": [
       "<div>\n",
       "<style scoped>\n",
       "    .dataframe tbody tr th:only-of-type {\n",
       "        vertical-align: middle;\n",
       "    }\n",
       "\n",
       "    .dataframe tbody tr th {\n",
       "        vertical-align: top;\n",
       "    }\n",
       "\n",
       "    .dataframe thead th {\n",
       "        text-align: right;\n",
       "    }\n",
       "</style>\n",
       "<table border=\"1\" class=\"dataframe\">\n",
       "  <thead>\n",
       "    <tr style=\"text-align: right;\">\n",
       "      <th>cid</th>\n",
       "      <th>CPC005_A375_6H:BRD-A85280935-003-01-7:10</th>\n",
       "      <th>CPC005_A375_6H:BRD-A07824748-001-02-6:10</th>\n",
       "      <th>CPC004_A375_6H:BRD-K20482099-001-01-1:10</th>\n",
       "      <th>CPC005_A375_6H:BRD-K62929068-001-03-3:10</th>\n",
       "      <th>CPC005_A375_6H:BRD-K43405658-001-01-8:10</th>\n",
       "      <th>CPC004_A375_6H:BRD-K03670461-001-02-0:10</th>\n",
       "      <th>CPC004_A375_6H:BRD-K36737713-001-01-6:10</th>\n",
       "      <th>CPC005_A375_6H:BRD-K51223576-001-01-3:10</th>\n",
       "      <th>CPC004_A375_6H:BRD-A14966924-001-03-0:10</th>\n",
       "      <th>CPC004_A375_6H:BRD-K79131256-001-08-8:10</th>\n",
       "    </tr>\n",
       "    <tr>\n",
       "      <th>rid</th>\n",
       "      <th></th>\n",
       "      <th></th>\n",
       "      <th></th>\n",
       "      <th></th>\n",
       "      <th></th>\n",
       "      <th></th>\n",
       "      <th></th>\n",
       "      <th></th>\n",
       "      <th></th>\n",
       "      <th></th>\n",
       "    </tr>\n",
       "  </thead>\n",
       "  <tbody>\n",
       "    <tr>\n",
       "      <th>5720</th>\n",
       "      <td>0.773769</td>\n",
       "      <td>-0.645586</td>\n",
       "      <td>-5.449666</td>\n",
       "      <td>0.193408</td>\n",
       "      <td>1.006298</td>\n",
       "      <td>-5.388713</td>\n",
       "      <td>-1.000240</td>\n",
       "      <td>0.490110</td>\n",
       "      <td>0.063297</td>\n",
       "      <td>0.560929</td>\n",
       "    </tr>\n",
       "    <tr>\n",
       "      <th>466</th>\n",
       "      <td>-0.818468</td>\n",
       "      <td>-0.810749</td>\n",
       "      <td>2.393775</td>\n",
       "      <td>-0.582243</td>\n",
       "      <td>0.455536</td>\n",
       "      <td>1.867731</td>\n",
       "      <td>-1.106092</td>\n",
       "      <td>0.595174</td>\n",
       "      <td>-0.962553</td>\n",
       "      <td>-0.656688</td>\n",
       "    </tr>\n",
       "    <tr>\n",
       "      <th>6009</th>\n",
       "      <td>0.189572</td>\n",
       "      <td>0.459060</td>\n",
       "      <td>1.279790</td>\n",
       "      <td>-0.178977</td>\n",
       "      <td>0.631738</td>\n",
       "      <td>0.281383</td>\n",
       "      <td>-0.422545</td>\n",
       "      <td>-0.224163</td>\n",
       "      <td>0.521553</td>\n",
       "      <td>0.520286</td>\n",
       "    </tr>\n",
       "    <tr>\n",
       "      <th>2309</th>\n",
       "      <td>-0.146031</td>\n",
       "      <td>-0.224676</td>\n",
       "      <td>2.167868</td>\n",
       "      <td>-1.182025</td>\n",
       "      <td>-0.936414</td>\n",
       "      <td>1.378175</td>\n",
       "      <td>0.406279</td>\n",
       "      <td>-0.244783</td>\n",
       "      <td>0.182361</td>\n",
       "      <td>-0.315654</td>\n",
       "    </tr>\n",
       "    <tr>\n",
       "      <th>387</th>\n",
       "      <td>-0.654002</td>\n",
       "      <td>-0.335681</td>\n",
       "      <td>2.333199</td>\n",
       "      <td>-1.012651</td>\n",
       "      <td>-1.213203</td>\n",
       "      <td>1.290522</td>\n",
       "      <td>-0.218671</td>\n",
       "      <td>-0.124029</td>\n",
       "      <td>0.572183</td>\n",
       "      <td>-0.187850</td>\n",
       "    </tr>\n",
       "    <tr>\n",
       "      <th>...</th>\n",
       "      <td>...</td>\n",
       "      <td>...</td>\n",
       "      <td>...</td>\n",
       "      <td>...</td>\n",
       "      <td>...</td>\n",
       "      <td>...</td>\n",
       "      <td>...</td>\n",
       "      <td>...</td>\n",
       "      <td>...</td>\n",
       "      <td>...</td>\n",
       "    </tr>\n",
       "    <tr>\n",
       "      <th>25960</th>\n",
       "      <td>0.240643</td>\n",
       "      <td>-0.086766</td>\n",
       "      <td>3.620893</td>\n",
       "      <td>0.082145</td>\n",
       "      <td>0.508581</td>\n",
       "      <td>0.874223</td>\n",
       "      <td>-0.092895</td>\n",
       "      <td>-0.667292</td>\n",
       "      <td>0.093789</td>\n",
       "      <td>-0.469189</td>\n",
       "    </tr>\n",
       "    <tr>\n",
       "      <th>6376</th>\n",
       "      <td>0.941109</td>\n",
       "      <td>2.821144</td>\n",
       "      <td>-1.866171</td>\n",
       "      <td>0.781728</td>\n",
       "      <td>1.217399</td>\n",
       "      <td>-2.777992</td>\n",
       "      <td>0.924472</td>\n",
       "      <td>0.196522</td>\n",
       "      <td>-0.062907</td>\n",
       "      <td>-0.018892</td>\n",
       "    </tr>\n",
       "    <tr>\n",
       "      <th>11033</th>\n",
       "      <td>0.931256</td>\n",
       "      <td>0.413081</td>\n",
       "      <td>2.035219</td>\n",
       "      <td>0.367824</td>\n",
       "      <td>-0.496499</td>\n",
       "      <td>-0.140473</td>\n",
       "      <td>1.190756</td>\n",
       "      <td>-0.371865</td>\n",
       "      <td>-0.417451</td>\n",
       "      <td>0.226126</td>\n",
       "    </tr>\n",
       "    <tr>\n",
       "      <th>54869</th>\n",
       "      <td>0.635310</td>\n",
       "      <td>1.291829</td>\n",
       "      <td>2.424871</td>\n",
       "      <td>2.049168</td>\n",
       "      <td>-0.006612</td>\n",
       "      <td>1.533514</td>\n",
       "      <td>1.030570</td>\n",
       "      <td>-0.885176</td>\n",
       "      <td>0.401086</td>\n",
       "      <td>0.115130</td>\n",
       "    </tr>\n",
       "    <tr>\n",
       "      <th>60</th>\n",
       "      <td>-0.941316</td>\n",
       "      <td>-0.148900</td>\n",
       "      <td>-0.970769</td>\n",
       "      <td>-0.232340</td>\n",
       "      <td>-0.516478</td>\n",
       "      <td>-1.830494</td>\n",
       "      <td>0.664247</td>\n",
       "      <td>-0.246390</td>\n",
       "      <td>0.862673</td>\n",
       "      <td>-0.172297</td>\n",
       "    </tr>\n",
       "  </tbody>\n",
       "</table>\n",
       "<p>12328 rows × 10 columns</p>\n",
       "</div>"
      ],
      "text/plain": [
       "cid    CPC005_A375_6H:BRD-A85280935-003-01-7:10  \\\n",
       "rid                                               \n",
       "5720                                   0.773769   \n",
       "466                                   -0.818468   \n",
       "6009                                   0.189572   \n",
       "2309                                  -0.146031   \n",
       "387                                   -0.654002   \n",
       "...                                         ...   \n",
       "25960                                  0.240643   \n",
       "6376                                   0.941109   \n",
       "11033                                  0.931256   \n",
       "54869                                  0.635310   \n",
       "60                                    -0.941316   \n",
       "\n",
       "cid    CPC005_A375_6H:BRD-A07824748-001-02-6:10  \\\n",
       "rid                                               \n",
       "5720                                  -0.645586   \n",
       "466                                   -0.810749   \n",
       "6009                                   0.459060   \n",
       "2309                                  -0.224676   \n",
       "387                                   -0.335681   \n",
       "...                                         ...   \n",
       "25960                                 -0.086766   \n",
       "6376                                   2.821144   \n",
       "11033                                  0.413081   \n",
       "54869                                  1.291829   \n",
       "60                                    -0.148900   \n",
       "\n",
       "cid    CPC004_A375_6H:BRD-K20482099-001-01-1:10  \\\n",
       "rid                                               \n",
       "5720                                  -5.449666   \n",
       "466                                    2.393775   \n",
       "6009                                   1.279790   \n",
       "2309                                   2.167868   \n",
       "387                                    2.333199   \n",
       "...                                         ...   \n",
       "25960                                  3.620893   \n",
       "6376                                  -1.866171   \n",
       "11033                                  2.035219   \n",
       "54869                                  2.424871   \n",
       "60                                    -0.970769   \n",
       "\n",
       "cid    CPC005_A375_6H:BRD-K62929068-001-03-3:10  \\\n",
       "rid                                               \n",
       "5720                                   0.193408   \n",
       "466                                   -0.582243   \n",
       "6009                                  -0.178977   \n",
       "2309                                  -1.182025   \n",
       "387                                   -1.012651   \n",
       "...                                         ...   \n",
       "25960                                  0.082145   \n",
       "6376                                   0.781728   \n",
       "11033                                  0.367824   \n",
       "54869                                  2.049168   \n",
       "60                                    -0.232340   \n",
       "\n",
       "cid    CPC005_A375_6H:BRD-K43405658-001-01-8:10  \\\n",
       "rid                                               \n",
       "5720                                   1.006298   \n",
       "466                                    0.455536   \n",
       "6009                                   0.631738   \n",
       "2309                                  -0.936414   \n",
       "387                                   -1.213203   \n",
       "...                                         ...   \n",
       "25960                                  0.508581   \n",
       "6376                                   1.217399   \n",
       "11033                                 -0.496499   \n",
       "54869                                 -0.006612   \n",
       "60                                    -0.516478   \n",
       "\n",
       "cid    CPC004_A375_6H:BRD-K03670461-001-02-0:10  \\\n",
       "rid                                               \n",
       "5720                                  -5.388713   \n",
       "466                                    1.867731   \n",
       "6009                                   0.281383   \n",
       "2309                                   1.378175   \n",
       "387                                    1.290522   \n",
       "...                                         ...   \n",
       "25960                                  0.874223   \n",
       "6376                                  -2.777992   \n",
       "11033                                 -0.140473   \n",
       "54869                                  1.533514   \n",
       "60                                    -1.830494   \n",
       "\n",
       "cid    CPC004_A375_6H:BRD-K36737713-001-01-6:10  \\\n",
       "rid                                               \n",
       "5720                                  -1.000240   \n",
       "466                                   -1.106092   \n",
       "6009                                  -0.422545   \n",
       "2309                                   0.406279   \n",
       "387                                   -0.218671   \n",
       "...                                         ...   \n",
       "25960                                 -0.092895   \n",
       "6376                                   0.924472   \n",
       "11033                                  1.190756   \n",
       "54869                                  1.030570   \n",
       "60                                     0.664247   \n",
       "\n",
       "cid    CPC005_A375_6H:BRD-K51223576-001-01-3:10  \\\n",
       "rid                                               \n",
       "5720                                   0.490110   \n",
       "466                                    0.595174   \n",
       "6009                                  -0.224163   \n",
       "2309                                  -0.244783   \n",
       "387                                   -0.124029   \n",
       "...                                         ...   \n",
       "25960                                 -0.667292   \n",
       "6376                                   0.196522   \n",
       "11033                                 -0.371865   \n",
       "54869                                 -0.885176   \n",
       "60                                    -0.246390   \n",
       "\n",
       "cid    CPC004_A375_6H:BRD-A14966924-001-03-0:10  \\\n",
       "rid                                               \n",
       "5720                                   0.063297   \n",
       "466                                   -0.962553   \n",
       "6009                                   0.521553   \n",
       "2309                                   0.182361   \n",
       "387                                    0.572183   \n",
       "...                                         ...   \n",
       "25960                                  0.093789   \n",
       "6376                                  -0.062907   \n",
       "11033                                 -0.417451   \n",
       "54869                                  0.401086   \n",
       "60                                     0.862673   \n",
       "\n",
       "cid    CPC004_A375_6H:BRD-K79131256-001-08-8:10  \n",
       "rid                                              \n",
       "5720                                   0.560929  \n",
       "466                                   -0.656688  \n",
       "6009                                   0.520286  \n",
       "2309                                  -0.315654  \n",
       "387                                   -0.187850  \n",
       "...                                         ...  \n",
       "25960                                 -0.469189  \n",
       "6376                                  -0.018892  \n",
       "11033                                  0.226126  \n",
       "54869                                  0.115130  \n",
       "60                                    -0.172297  \n",
       "\n",
       "[12328 rows x 10 columns]"
      ]
     },
     "execution_count": 12,
     "metadata": {},
     "output_type": "execute_result"
    }
   ],
   "source": [
    "batch_gctoo = parse_gctx(GCTX_DATA_PATH, cid=all_sig_ids[:10])\n",
    "batch_gctoo.data_df"
   ]
  },
  {
   "cell_type": "markdown",
   "metadata": {},
   "source": [
    "**Observations**: \n",
    "* ..."
   ]
  },
  {
   "cell_type": "markdown",
   "metadata": {},
   "source": [
    "---\n",
    "### 6. Build the Model <a class=\"anchor\" id=\"model\"></a>"
   ]
  },
  {
   "cell_type": "markdown",
   "metadata": {},
   "source": [
    "Define model parameters"
   ]
  },
  {
   "cell_type": "markdown",
   "metadata": {},
   "source": [
    "**Observations**:\n",
    "- ..."
   ]
  },
  {
   "cell_type": "markdown",
   "metadata": {},
   "source": [
    "---\n",
    "### 8. Summary"
   ]
  },
  {
   "cell_type": "markdown",
   "metadata": {},
   "source": [
    "This project demonstrates ...\n",
    "\n",
    "\n",
    "The primary findings include:\n",
    "\n",
    "* ...\n",
    "\n",
    "Next Steps:\n",
    "* Investigate the effect of ..."
   ]
  },
  {
   "cell_type": "markdown",
   "metadata": {},
   "source": []
  }
 ],
 "metadata": {
  "kernelspec": {
   "display_name": "cancer_env",
   "language": "python",
   "name": "python3"
  },
  "language_info": {
   "codemirror_mode": {
    "name": "ipython",
    "version": 3
   },
   "file_extension": ".py",
   "mimetype": "text/x-python",
   "name": "python",
   "nbconvert_exporter": "python",
   "pygments_lexer": "ipython3",
   "version": "3.11.8"
  }
 },
 "nbformat": 4,
 "nbformat_minor": 2
}
